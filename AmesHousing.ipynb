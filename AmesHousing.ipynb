{
 "cells": [
  {
   "cell_type": "code",
   "execution_count": 185,
   "id": "computational-words",
   "metadata": {},
   "outputs": [],
   "source": [
    "import pandas as pd\n",
    "import numpy as np\n",
    "from sklearn.linear_model import LinearRegression\n",
    "from sklearn.ensemble import RandomForestRegressor\n",
    "from sklearn.model_selection import KFold\n",
    "from sklearn.metrics import mean_squared_error\n",
    "from matplotlib import pyplot as plt"
   ]
  },
  {
   "cell_type": "code",
   "execution_count": 2,
   "id": "sustained-reasoning",
   "metadata": {},
   "outputs": [],
   "source": [
    "full_database = pd.read_csv(\"./AmesHousing.tsv\", delimiter=\"\\t\")\n",
    "TARGET = \"SalePrice\""
   ]
  },
  {
   "cell_type": "code",
   "execution_count": 3,
   "id": "personalized-active",
   "metadata": {
    "scrolled": true
   },
   "outputs": [
    {
     "name": "stdout",
     "output_type": "stream",
     "text": [
      "<class 'pandas.core.frame.DataFrame'>\n",
      "RangeIndex: 2930 entries, 0 to 2929\n",
      "Data columns (total 82 columns):\n",
      " #   Column           Non-Null Count  Dtype  \n",
      "---  ------           --------------  -----  \n",
      " 0   Order            2930 non-null   int64  \n",
      " 1   PID              2930 non-null   int64  \n",
      " 2   MS SubClass      2930 non-null   int64  \n",
      " 3   MS Zoning        2930 non-null   object \n",
      " 4   Lot Frontage     2440 non-null   float64\n",
      " 5   Lot Area         2930 non-null   int64  \n",
      " 6   Street           2930 non-null   object \n",
      " 7   Alley            198 non-null    object \n",
      " 8   Lot Shape        2930 non-null   object \n",
      " 9   Land Contour     2930 non-null   object \n",
      " 10  Utilities        2930 non-null   object \n",
      " 11  Lot Config       2930 non-null   object \n",
      " 12  Land Slope       2930 non-null   object \n",
      " 13  Neighborhood     2930 non-null   object \n",
      " 14  Condition 1      2930 non-null   object \n",
      " 15  Condition 2      2930 non-null   object \n",
      " 16  Bldg Type        2930 non-null   object \n",
      " 17  House Style      2930 non-null   object \n",
      " 18  Overall Qual     2930 non-null   int64  \n",
      " 19  Overall Cond     2930 non-null   int64  \n",
      " 20  Year Built       2930 non-null   int64  \n",
      " 21  Year Remod/Add   2930 non-null   int64  \n",
      " 22  Roof Style       2930 non-null   object \n",
      " 23  Roof Matl        2930 non-null   object \n",
      " 24  Exterior 1st     2930 non-null   object \n",
      " 25  Exterior 2nd     2930 non-null   object \n",
      " 26  Mas Vnr Type     2907 non-null   object \n",
      " 27  Mas Vnr Area     2907 non-null   float64\n",
      " 28  Exter Qual       2930 non-null   object \n",
      " 29  Exter Cond       2930 non-null   object \n",
      " 30  Foundation       2930 non-null   object \n",
      " 31  Bsmt Qual        2850 non-null   object \n",
      " 32  Bsmt Cond        2850 non-null   object \n",
      " 33  Bsmt Exposure    2847 non-null   object \n",
      " 34  BsmtFin Type 1   2850 non-null   object \n",
      " 35  BsmtFin SF 1     2929 non-null   float64\n",
      " 36  BsmtFin Type 2   2849 non-null   object \n",
      " 37  BsmtFin SF 2     2929 non-null   float64\n",
      " 38  Bsmt Unf SF      2929 non-null   float64\n",
      " 39  Total Bsmt SF    2929 non-null   float64\n",
      " 40  Heating          2930 non-null   object \n",
      " 41  Heating QC       2930 non-null   object \n",
      " 42  Central Air      2930 non-null   object \n",
      " 43  Electrical       2929 non-null   object \n",
      " 44  1st Flr SF       2930 non-null   int64  \n",
      " 45  2nd Flr SF       2930 non-null   int64  \n",
      " 46  Low Qual Fin SF  2930 non-null   int64  \n",
      " 47  Gr Liv Area      2930 non-null   int64  \n",
      " 48  Bsmt Full Bath   2928 non-null   float64\n",
      " 49  Bsmt Half Bath   2928 non-null   float64\n",
      " 50  Full Bath        2930 non-null   int64  \n",
      " 51  Half Bath        2930 non-null   int64  \n",
      " 52  Bedroom AbvGr    2930 non-null   int64  \n",
      " 53  Kitchen AbvGr    2930 non-null   int64  \n",
      " 54  Kitchen Qual     2930 non-null   object \n",
      " 55  TotRms AbvGrd    2930 non-null   int64  \n",
      " 56  Functional       2930 non-null   object \n",
      " 57  Fireplaces       2930 non-null   int64  \n",
      " 58  Fireplace Qu     1508 non-null   object \n",
      " 59  Garage Type      2773 non-null   object \n",
      " 60  Garage Yr Blt    2771 non-null   float64\n",
      " 61  Garage Finish    2771 non-null   object \n",
      " 62  Garage Cars      2929 non-null   float64\n",
      " 63  Garage Area      2929 non-null   float64\n",
      " 64  Garage Qual      2771 non-null   object \n",
      " 65  Garage Cond      2771 non-null   object \n",
      " 66  Paved Drive      2930 non-null   object \n",
      " 67  Wood Deck SF     2930 non-null   int64  \n",
      " 68  Open Porch SF    2930 non-null   int64  \n",
      " 69  Enclosed Porch   2930 non-null   int64  \n",
      " 70  3Ssn Porch       2930 non-null   int64  \n",
      " 71  Screen Porch     2930 non-null   int64  \n",
      " 72  Pool Area        2930 non-null   int64  \n",
      " 73  Pool QC          13 non-null     object \n",
      " 74  Fence            572 non-null    object \n",
      " 75  Misc Feature     106 non-null    object \n",
      " 76  Misc Val         2930 non-null   int64  \n",
      " 77  Mo Sold          2930 non-null   int64  \n",
      " 78  Yr Sold          2930 non-null   int64  \n",
      " 79  Sale Type        2930 non-null   object \n",
      " 80  Sale Condition   2930 non-null   object \n",
      " 81  SalePrice        2930 non-null   int64  \n",
      "dtypes: float64(11), int64(28), object(43)\n",
      "memory usage: 1.8+ MB\n"
     ]
    }
   ],
   "source": [
    "full_database.info()"
   ]
  },
  {
   "cell_type": "markdown",
   "id": "czech-rolling",
   "metadata": {},
   "source": [
    "## Function to calculate mean squared root error for linear regression models"
   ]
  },
  {
   "cell_type": "code",
   "execution_count": 186,
   "id": "round-affair",
   "metadata": {},
   "outputs": [],
   "source": [
    "def rmse(df, print_result=True):\n",
    "    \"\"\"Split dataset into five different splits and verify\n",
    "    model accuracy using mean of mean squared error for each split.\n",
    "    Print mean and standard deviation of error for each split.\n",
    "    \"\"\"\n",
    "    df = pd.get_dummies(df)\n",
    "    features = df.columns.drop(TARGET)\n",
    "    lr = LinearRegression()\n",
    "    kf = KFold(n_splits=5, shuffle=True, random_state=1)\n",
    "    rmses = []\n",
    "    for train_i, test_i in kf.split(df):\n",
    "        lr.fit(df[features].iloc[train_i], df[TARGET].iloc[train_i])\n",
    "        prediction = lr.predict(df[features].iloc[test_i])\n",
    "        rmse = np.sqrt(mean_squared_error(prediction, df[TARGET].iloc[test_i]))\n",
    "        rmses.append(rmse)\n",
    "    if print_result:\n",
    "        print(f\"Avg root mean squared error: ${np.mean(rmses):,.0f}\",\n",
    "            f\"std dev of rmses: ${np.std(rmses):,.0f}\", sep=\"\\n\", )\n",
    "    return np.mean(rmses), np.std(rmses)"
   ]
  },
  {
   "cell_type": "markdown",
   "id": "laughing-jurisdiction",
   "metadata": {},
   "source": [
    "## Simple selection of features for linear regression"
   ]
  },
  {
   "cell_type": "code",
   "execution_count": 196,
   "id": "broke-google",
   "metadata": {},
   "outputs": [],
   "source": [
    "def convert_df_simple(df, n=9):\n",
    "    \"\"\"Select n numeric features with best correlation\n",
    "    to TARGET values. Fill in the gaps with mean of column.\n",
    "    \"\"\"\n",
    "    features = df.corr()[TARGET].abs().sort_values(ascending=False)[:n].index.drop(TARGET)\n",
    "    modified = df[features.append(pd.Index([TARGET]))]\n",
    "    modified = modified.fillna(modified.mean())\n",
    "    return modified"
   ]
  },
  {
   "cell_type": "code",
   "execution_count": 195,
   "id": "formal-member",
   "metadata": {},
   "outputs": [
    {
     "name": "stdout",
     "output_type": "stream",
     "text": [
      "[[2, 47980.43825572473, 2384.7744373287796], [3, 41381.288710930596, 2095.1284484941693], [4, 39694.89040051012, 2463.5983095788447], [5, 39313.46353056227, 2597.7675050674447], [6, 37579.209813380294, 3225.4849608323975], [7, 37481.63800424946, 3264.821234785405], [8, 36760.13289079974, 3568.3767875219123], [9, 36656.15588161368, 3656.7583736808656], [10, 36325.246175414024, 3748.036912789772], [11, 36325.74718284742, 3746.9488469287703], [12, 35909.31705721267, 3861.2183252243753]]\n"
     ]
    },
    {
     "data": {
      "image/png": "[encoded data removed]",
      "text/plain": [
       "<Figure size 432x288 with 1 Axes>"
      ]
     },
     "metadata": {
      "needs_background": "light"
     },
     "output_type": "display_data"
    }
   ],
   "source": [
    "results = []\n",
    "for i in range(2, 13):\n",
    "    df = convert_df_simple(full_database, i)\n",
    "#     df.info()\n",
    "    result = [i]\n",
    "    result.extend(rmse(df, print_result=False))\n",
    "    results.append(result)\n",
    "print(results)\n",
    "plt.scatter([i[0] for i in results], [i[1] for i in results], label=\"RMSE\")\n",
    "plt.scatter([i[0] for i in results], [i[2] for i in results], label=\"STD\")\n",
    "plt.legend()\n",
    "plt.show()"
   ]
  },
  {
   "cell_type": "markdown",
   "id": "front-munich",
   "metadata": {},
   "source": [
    "Selection of more than 8 features does not improve model's prediction error."
   ]
  },
  {
   "cell_type": "markdown",
   "id": "perceived-purse",
   "metadata": {},
   "source": [
    "## Selection of best number and categorical features based on domain knowledge for linear regression\n",
    "- remove columns that are too specific or irrelevant\n",
    "- combine specific features into more generic ones"
   ]
  },
  {
   "cell_type": "code",
   "execution_count": 106,
   "id": "precious-heater",
   "metadata": {},
   "outputs": [],
   "source": [
    "useless_cols = [\n",
    "    \"Order\",\n",
    "    \"PID\",\n",
    "    \"Lot Frontage\",\n",
    "    \"Street\",\n",
    "    \"Alley\",\n",
    "    \"Lot Shape\",\n",
    "    \"Land Contour\",\n",
    "    \"Lot Config\",\n",
    "    \"Land Slope\",\n",
    "    \"Condition 2\",\n",
    "    \"Roof Style\",\n",
    "    \"Year Built\",\n",
    "    \"Roof Matl\",\n",
    "    \"Exterior 2nd\",\n",
    "    \"Mas Vnr Type\",\n",
    "    \"Mas Vnr Area\",\n",
    "    \"Bsmt Qual\",\n",
    "    \"Bsmt Exposure\",\n",
    "    \"BsmtFin Type 1\",\n",
    "    \"BsmtFin Type 2\",\n",
    "    \"BsmtFin SF 2\",\n",
    "    \"Bsmt Cond\",\n",
    "    \"Bsmt Unf SF\",\n",
    "    \"1st Flr SF\",\n",
    "    \"2nd Flr SF\",\n",
    "    \"Low Qual Fin SF\",\n",
    "    \"BsmtFin SF 1\",\n",
    "    \"Bedroom AbvGr\",\n",
    "    \"Kitchen AbvGr\",\n",
    "    \"TotRms AbvGrd\",\n",
    "    \"Functional\",\n",
    "    \"Year Remod/Add\",\n",
    "    \"Fireplace Qu\",\n",
    "    \"Garage Type\",\n",
    "    \"Garage Yr Blt\",\n",
    "    \"Garage Finish\",\n",
    "    \"Garage Cars\",\n",
    "    \"Garage Qual\",\n",
    "    \"Misc Feature\",\n",
    "    \"Misc Val\",\n",
    "    \"Mo Sold\",\n",
    "    \"Yr Sold\",\n",
    "    \"Sale Type\",\n",
    "    \"Sale Condition\",\n",
    "    \"Fence\",\n",
    "    \"Pool QC\",\n",
    "]\n",
    "\n",
    "combines = {\n",
    "    \"external_resting_area_NEW\": [\"Wood Deck SF\", \"Open Porch SF\", \"Enclosed Porch\", \"3Ssn Porch\", \"Screen Porch\"],\n",
    "    \"total_bathrooms_NEW\": [\"Bsmt Full Bath\", \"Bsmt Half Bath\", \"Full Bath\", \"Half Bath\"],\n",
    "}\n",
    "\n",
    "columns_to_string = [\n",
    "    \"MS SubClass\",\n",
    "]\n",
    "\n",
    "to_fill_na = {\n",
    "    \"Garage Cond\": \"NA\",\n",
    "}"
   ]
  },
  {
   "cell_type": "code",
   "execution_count": 197,
   "id": "scheduled-workplace",
   "metadata": {},
   "outputs": [],
   "source": [
    "def convert_df_selected(df):\n",
    "    \"\"\"Convert dataframe dropping unnecessary columns,\n",
    "    combining selected features into more generic ones\n",
    "    and dropping NAs\n",
    "    \"\"\"\n",
    "    final = df.copy()\n",
    "    for key in combines:\n",
    "        final[key] = final[combines[key]].sum(axis=1)\n",
    "        final = final.drop(combines[key], axis=1)\n",
    "    final[\"age_when_sold\"] = final[\"Yr Sold\"] - final[\"Year Remod/Add\"]\n",
    "    final = final.drop(final[final[\"age_when_sold\"]<0].index)\n",
    "    final = final.fillna(to_fill_na)\n",
    "    final = final.drop(useless_cols, axis=1, errors=\"ignore\")\n",
    "    final = final.dropna() \n",
    "    final[columns_to_string] = final[columns_to_string].astype(\"object\")\n",
    "    return final"
   ]
  },
  {
   "cell_type": "code",
   "execution_count": 198,
   "id": "consecutive-circular",
   "metadata": {},
   "outputs": [
    {
     "name": "stdout",
     "output_type": "stream",
     "text": [
      "<class 'pandas.core.frame.DataFrame'>\n",
      "Int64Index: 2924 entries, 0 to 2929\n",
      "Data columns (total 30 columns):\n",
      " #   Column                     Non-Null Count  Dtype  \n",
      "---  ------                     --------------  -----  \n",
      " 0   MS SubClass                2924 non-null   object \n",
      " 1   MS Zoning                  2924 non-null   object \n",
      " 2   Lot Area                   2924 non-null   int64  \n",
      " 3   Utilities                  2924 non-null   object \n",
      " 4   Neighborhood               2924 non-null   object \n",
      " 5   Condition 1                2924 non-null   object \n",
      " 6   Bldg Type                  2924 non-null   object \n",
      " 7   House Style                2924 non-null   object \n",
      " 8   Overall Qual               2924 non-null   int64  \n",
      " 9   Overall Cond               2924 non-null   int64  \n",
      " 10  Exterior 1st               2924 non-null   object \n",
      " 11  Exter Qual                 2924 non-null   object \n",
      " 12  Exter Cond                 2924 non-null   object \n",
      " 13  Foundation                 2924 non-null   object \n",
      " 14  Total Bsmt SF              2924 non-null   float64\n",
      " 15  Heating                    2924 non-null   object \n",
      " 16  Heating QC                 2924 non-null   object \n",
      " 17  Central Air                2924 non-null   object \n",
      " 18  Electrical                 2924 non-null   object \n",
      " 19  Gr Liv Area                2924 non-null   int64  \n",
      " 20  Kitchen Qual               2924 non-null   object \n",
      " 21  Fireplaces                 2924 non-null   int64  \n",
      " 22  Garage Area                2924 non-null   float64\n",
      " 23  Garage Cond                2924 non-null   object \n",
      " 24  Paved Drive                2924 non-null   object \n",
      " 25  Pool Area                  2924 non-null   int64  \n",
      " 26  SalePrice                  2924 non-null   int64  \n",
      " 27  external_resting_area_NEW  2924 non-null   int64  \n",
      " 28  total_bathrooms_NEW        2924 non-null   float64\n",
      " 29  age_when_sold              2924 non-null   int64  \n",
      "dtypes: float64(3), int64(9), object(18)\n",
      "memory usage: 708.2+ KB\n",
      "Avg root mean squared error: $28,329\n",
      "std dev of rmses: $3,689\n"
     ]
    },
    {
     "data": {
      "text/plain": [
       "(28328.941453918087, 3689.114059331888)"
      ]
     },
     "execution_count": 198,
     "metadata": {},
     "output_type": "execute_result"
    }
   ],
   "source": [
    "df = conver_df_selected(full_database)\n",
    "df.info()\n",
    "rmse(df)"
   ]
  },
  {
   "cell_type": "markdown",
   "id": "several-bacteria",
   "metadata": {},
   "source": [
    "## Using features selected in previous step in Random Forrest model"
   ]
  },
  {
   "cell_type": "code",
   "execution_count": 206,
   "id": "composite-agency",
   "metadata": {},
   "outputs": [],
   "source": [
    "def rmse_random_forest(df: pd.DataFrame) -> float:\n",
    "    df = df.copy()\n",
    "    df = pd.get_dummies(df)\n",
    "    features = df.columns.drop(TARGET)\n",
    "    model = RandomForestRegressor(max_depth=10)\n",
    "    kf = KFold(n_splits=5, shuffle=True, random_state=1)\n",
    "    rmses = []\n",
    "    for train_i, test_i in kf.split(df):\n",
    "        model.fit(df[features].iloc[train_i], df[TARGET].iloc[train_i])\n",
    "        prediction = model.predict(df[features].iloc[test_i])\n",
    "        rmse = np.sqrt(mean_squared_error(prediction, df[TARGET].iloc[test_i]))\n",
    "        rmses.append(rmse)\n",
    "    print(f\"\\nAvg root mean squared error: ${np.mean(rmses):,.0f}\",\n",
    "        f\"std dev of rmses: ${np.std(rmses):,.0f}\", sep=\"\\n\", )\n",
    "    return np.mean(rmses)"
   ]
  },
  {
   "cell_type": "code",
   "execution_count": 207,
   "id": "supported-bailey",
   "metadata": {},
   "outputs": [
    {
     "name": "stdout",
     "output_type": "stream",
     "text": [
      "\n",
      "Avg root mean squared error: $26,767\n",
      "std dev of rmses: $4,041\n"
     ]
    }
   ],
   "source": [
    "df = prepare_selected(full_database)\n",
    "a = rmse_random_forest(df)"
   ]
  }
 ],
 "metadata": {
  "kernelspec": {
   "display_name": "Python 3",
   "language": "python",
   "name": "python3"
  },
  "language_info": {
   "codemirror_mode": {
    "name": "ipython",
    "version": 3
   },
   "file_extension": ".py",
   "mimetype": "text/x-python",
   "name": "python",
   "nbconvert_exporter": "python",
   "pygments_lexer": "ipython3",
   "version": "3.9.3"
  }
 },
 "nbformat": 4,
 "nbformat_minor": 5
}
